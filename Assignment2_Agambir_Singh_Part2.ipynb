{
 "cells": [
  {
   "cell_type": "code",
   "execution_count": 2,
   "id": "42d296d7",
   "metadata": {},
   "outputs": [],
   "source": [
    "import requests\n",
    "import json"
   ]
  },
  {
   "cell_type": "code",
   "execution_count": 3,
   "id": "1b940f0e",
   "metadata": {},
   "outputs": [
    {
     "name": "stdout",
     "output_type": "stream",
     "text": [
      "sample: {'age': 70.0, 'sex': 1.0, 'cp': 3.0, 'trestbps': 130.0, 'restecg': 2.0, 'thalach': 109.0, 'exang': 0.0, 'oldpeak': 2.4, 'thal': 1.0}\n"
     ]
    }
   ],
   "source": [
    "response=requests.get('http://127.0.0.1:5000/Heart/sample')\n",
    "print('sample:', response.json())"
   ]
  },
  {
   "cell_type": "code",
   "execution_count": 4,
   "id": "1b102930",
   "metadata": {},
   "outputs": [
    {
     "name": "stdout",
     "output_type": "stream",
     "text": [
      "Explanation: {\"age\":70.0,\"sex\":1.0,\"cp\":3.0,\"trestbps\":130.0,\"restecg\":2.0,\"thalach\":109.0,\"exang\":0.0,\"oldpeak\":2.4,\"thal\":1.0}\n"
     ]
    }
   ],
   "source": [
    "respoms=requests.get('http://127.0.0.1:5000/Heart/explain')\n",
    "print('Explanation:', response.text)"
   ]
  },
  {
   "cell_type": "code",
   "execution_count": 5,
   "id": "7e7dc43f",
   "metadata": {},
   "outputs": [
    {
     "data": {
      "text/plain": [
       "{'age': 45,\n",
       " 'sex': 1,\n",
       " 'cp': 1,\n",
       " 'trestbps': 120,\n",
       " 'chol': 210,\n",
       " 'restecg': 2,\n",
       " 'thalach': 180,\n",
       " 'exang': 0,\n",
       " 'oldpeak': 0.5,\n",
       " 'thal': 1}"
      ]
     },
     "execution_count": 5,
     "metadata": {},
     "output_type": "execute_result"
    }
   ],
   "source": [
    "sample_data_list = {\n",
    "    \"age\": 62,\n",
    "    \"sex\": 0,\n",
    "    \"cp\": 2,\n",
    "    \"trestbps\": 130,\n",
    "    \"chol\": 280,\n",
    "    \"restecg\": 0,\n",
    "    \"thalach\": 150,\n",
    "    \"exang\": 1,\n",
    "    \"oldpeak\": 2.5,\n",
    "    \"thal\": 3\n",
    "},\n",
    "{\n",
    "    \"age\": 45,\n",
    "    \"sex\": 1,\n",
    "    \"cp\": 1,\n",
    "    \"trestbps\": 120,\n",
    "    \"chol\": 210,\n",
    "    \"restecg\": 2,\n",
    "    \"thalach\": 180,\n",
    "    \"exang\": 0,\n",
    "    \"oldpeak\": 0.5,\n",
    "    \"thal\": 1\n",
    "}\n"
   ]
  },
  {
   "cell_type": "code",
   "execution_count": 6,
   "id": "a37ce5aa",
   "metadata": {},
   "outputs": [
    {
     "name": "stdout",
     "output_type": "stream",
     "text": [
      "Response: 404 <!doctype html>\n",
      "<html lang=en>\n",
      "<title>404 Not Found</title>\n",
      "<h1>Not Found</h1>\n",
      "<p>The requested URL was not found on the server. If you entered the URL manually please check your spelling and try again.</p>\n",
      "\n",
      "sample Data: {'age': 62, 'sex': 0, 'cp': 2, 'trestbps': 130, 'chol': 280, 'restecg': 0, 'thalach': 150, 'exang': 1, 'oldpeak': 2.5, 'thal': 3}\n"
     ]
    }
   ],
   "source": [
    "import requests\n",
    "response=requests.post('http://127.0.0.1:5000/Heart/evaluate', json=sample_data_list[0])\n",
    "print('Response:', response.status_code,response.text)\n",
    "print('sample Data:', sample_data_list[0])"
   ]
  }
 ],
 "metadata": {
  "kernelspec": {
   "display_name": "base",
   "language": "python",
   "name": "python3"
  },
  "language_info": {
   "codemirror_mode": {
    "name": "ipython",
    "version": 3
   },
   "file_extension": ".py",
   "mimetype": "text/x-python",
   "name": "python",
   "nbconvert_exporter": "python",
   "pygments_lexer": "ipython3",
   "version": "3.12.7"
  }
 },
 "nbformat": 4,
 "nbformat_minor": 5
}
